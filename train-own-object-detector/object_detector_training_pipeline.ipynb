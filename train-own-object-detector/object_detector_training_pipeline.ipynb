{
 "cells": [
  {
   "cell_type": "code",
   "execution_count": 1,
   "metadata": {},
   "outputs": [
    {
     "name": "stderr",
     "output_type": "stream",
     "text": [
      "C:\\Users\\sem.onyalo\\AppData\\Local\\Continuum\\anaconda3\\envs\\deeplearning\\lib\\site-packages\\h5py\\__init__.py:36: FutureWarning: Conversion of the second argument of issubdtype from `float` to `np.floating` is deprecated. In future, it will be treated as `np.float64 == np.dtype(float).type`.\n",
      "  from ._conv import register_converters as _register_converters\n"
     ]
    }
   ],
   "source": [
    "import io\n",
    "import os\n",
    "import sys\n",
    "import glob\n",
    "import shutil\n",
    "import numpy as np\n",
    "import pandas as pd\n",
    "import tensorflow as tf\n",
    "import xml.etree.ElementTree as xt\n",
    "\n",
    "# TensorFlow model modules\n",
    "sys.path.append('../../tensorflow/models/research')\n",
    "\n",
    "from PIL import Image\n",
    "from collections import namedtuple\n",
    "from object_detection.utils import dataset_util\n",
    "from object_detection.utils import label_map_util"
   ]
  },
  {
   "cell_type": "code",
   "execution_count": 22,
   "metadata": {},
   "outputs": [],
   "source": [
    "image_set_dir = '1_Image_Set'\n",
    "pascal_voc_dir = '2_Pascal_VOC_Annotations'\n",
    "csv_labels_dir = '3_Labels/'\n",
    "csv_labels_split_dir = '4_Labels_Split/'\n",
    "tfrecord_dir = '5_TFRecord_Files/'\n",
    "train_dir = '6_Train/'\n",
    "\n",
    "csv_labels_path = csv_labels_dir + 'labels.csv'\n",
    "csv_train_labels_path = csv_labels_split_dir + 'train_labels.csv'\n",
    "csv_test_labels_path = csv_labels_split_dir + 'test_labels.csv'\n",
    "tfrecord_train_path = tfrecord_dir + 'train.record'\n",
    "tfrecord_test_path = tfrecord_dir + 'test.record'"
   ]
  },
  {
   "cell_type": "code",
   "execution_count": 3,
   "metadata": {},
   "outputs": [],
   "source": [
    "def clear_directory_if_empty(path):\n",
    "    objs = os.listdir(path)\n",
    "    if objs != []:\n",
    "        for obj in objs:\n",
    "            objPath = os.path.join(path, obj)\n",
    "            try:\n",
    "                if os.path.isfile(objPath):\n",
    "                    os.unlink(objPath)\n",
    "                elif os.path.isdir(objPath):\n",
    "                    shutil.rmtree(objPath)\n",
    "            except Exception as e:\n",
    "                print(\"Exception clearing directory\" + str(e))\n",
    "                return"
   ]
  },
  {
   "cell_type": "markdown",
   "metadata": {},
   "source": [
    "# Convert Pascal VOC Annotations to CSV Labels File"
   ]
  },
  {
   "cell_type": "code",
   "execution_count": 6,
   "metadata": {},
   "outputs": [],
   "source": [
    "def pascal_voc_to_csv(input_dir, output_path):\n",
    "    annot_list = []\n",
    "    for file in glob.glob(input_dir + '/*.xml'):\n",
    "        tree = xt.parse(file)\n",
    "        root = tree.getroot()\n",
    "        for element in root.findall('object'):\n",
    "            item = (root.find('filename').text,\n",
    "                    int(root.find('size')[0].text),\n",
    "                    int(root.find('size')[1].text),\n",
    "                    element[0].text,\n",
    "                    int(element[4][0].text),\n",
    "                    int(element[4][1].text),\n",
    "                    int(element[4][2].text),\n",
    "                    int(element[4][3].text))\n",
    "            annot_list.append(item)\n",
    "        csv_headers = ['filename', 'width', 'height', 'class', 'xmin', 'ymin', 'xmax', 'ymax']\n",
    "        csv_data = pd.DataFrame(annot_list, columns=csv_headers)\n",
    "    csv_data.to_csv(output_path, index=None)\n",
    "    return csv_data"
   ]
  },
  {
   "cell_type": "code",
   "execution_count": 15,
   "metadata": {},
   "outputs": [
    {
     "name": "stdout",
     "output_type": "stream",
     "text": [
      "                                              filename  width  height  \\\n",
      "0            0002563_balance-ball-chair-blue-ball.jpeg    750     750   \n",
      "1                                        003sw9dft.jpg    628     355   \n",
      "2                                        00923dews.jpg    259     194   \n",
      "3                                    01e81286-29d5.png    900     400   \n",
      "4                                                1.jpg    275     183   \n",
      "5                                    10-3174_inuse.jpg    400     415   \n",
      "6                                              10.jpeg    780     390   \n",
      "7                                              10.jpeg    780     390   \n",
      "8                                              10.jpeg    780     390   \n",
      "9                                              10.jpeg    780     390   \n",
      "10                                             10.jpeg    780     390   \n",
      "11                                             10.jpeg    780     390   \n",
      "12                                             11.jpeg   1600    1214   \n",
      "13                                             11.jpeg   1600    1214   \n",
      "14                                              12.jpg    800     759   \n",
      "15                                              12.jpg    800     759   \n",
      "16                          1297459281550_ORIGINAL.jpg    810     470   \n",
      "17                          1297739597252_ORIGINAL.jpg    650     474   \n",
      "18                                              13.jpg    236     157   \n",
      "19                                              13.jpg    236     157   \n",
      "20                                              13.jpg    236     157   \n",
      "21                                              13.jpg    236     157   \n",
      "22                                              14.jpg    850     478   \n",
      "23                               1445415716-8089_0.jpg    600     600   \n",
      "24                                  1454011283257.jpeg    631     473   \n",
      "25                              149694325006613123.jpg    812     457   \n",
      "26                                              15.jpg    376     319   \n",
      "27                                              16.jpg    355     355   \n",
      "28                                              17.jpg   1050    1050   \n",
      "29                                              18.jpg    620     605   \n",
      "..                                                 ...    ...     ...   \n",
      "349                                      the-balls.jpg    800     531   \n",
      "350                                      the-balls.jpg    800     531   \n",
      "351                                      the-balls.jpg    800     531   \n",
      "352                                      the-balls.jpg    800     531   \n",
      "353                       Theraband Exercies Balls.jpg    324     220   \n",
      "354                       Theraband Exercies Balls.jpg    324     220   \n",
      "355  top-glides-precut-walker-tennis-ball-glides-da...    355     355   \n",
      "356  top-glides-precut-walker-tennis-ball-glides-da...    355     355   \n",
      "357                                    u8sdd38ncd4.jpg    274     184   \n",
      "358                                    u8sdd38ncd4.jpg    274     184   \n",
      "359                                    u8sdd38ncd4.jpg    274     184   \n",
      "360                                    u8sdd38ncd4.jpg    274     184   \n",
      "361                          Untitled2017316166705.jpg    620     372   \n",
      "362                               v2jfpb8690ggu7sj.jpg    650     350   \n",
      "363                               v2jfpb8690ggu7sj.jpg    650     350   \n",
      "364                               v2jfpb8690ggu7sj.jpg    650     350   \n",
      "365                  Volvik-Vivid-Golf-Ball-Review.jpg    300     277   \n",
      "366                                        wEcvyRK.png    800     315   \n",
      "367                                        wEcvyRK.png    800     315   \n",
      "368                                        wEcvyRK.png    800     315   \n",
      "369                                        wEcvyRK.png    800     315   \n",
      "370                                        wEcvyRK.png    800     315   \n",
      "371    woman-exercise-blue-medicine-ball-474123397.jpg    450     320   \n",
      "372  woman-gym-relaxing-medicine-ball-260nw-7075141...    369     280   \n",
      "373            woman-holding-blue-balls-doing-yoga.jpg    610     457   \n",
      "374            woman-holding-blue-balls-doing-yoga.jpg    610     457   \n",
      "375                    xdglobes1_1400x.progressive.jpg    827     506   \n",
      "376                    xdglobes1_1400x.progressive.jpg    827     506   \n",
      "377                    xdglobes1_1400x.progressive.jpg    827     506   \n",
      "378                                       Zeus-963.jpg    530     530   \n",
      "\n",
      "         class  xmin  ymin  xmax  ymax  \n",
      "0    blue ball   210   190   600   522  \n",
      "1     red ball   189    65   415   295  \n",
      "2     red ball   120    55   213   150  \n",
      "3    blue ball   489   157   605   272  \n",
      "4     red ball    83   102   134   154  \n",
      "5    blue ball    51   138   301   385  \n",
      "6     red ball   180   311   245   377  \n",
      "7     red ball   313   203   343   236  \n",
      "8     red ball   351   176   371   198  \n",
      "9     red ball   366   150   382   165  \n",
      "10    red ball   386   134   400   150  \n",
      "11    red ball   382   141   394   154  \n",
      "12    red ball   979   279  1160   451  \n",
      "13    red ball   519   383   714   572  \n",
      "14    red ball   458    25   542   107  \n",
      "15    red ball   712   588   785   660  \n",
      "16    red ball   131   397   152   419  \n",
      "17    red ball   337   222   444   325  \n",
      "18    red ball   203    55   219    71  \n",
      "19    red ball   159    67   180    88  \n",
      "20    red ball   114    79   139   103  \n",
      "21    red ball    32    97    62   127  \n",
      "22    red ball   446    77   793   418  \n",
      "23   blue ball   170    95   579   506  \n",
      "24   blue ball   281   202   372   289  \n",
      "25    red ball   318   330   560   457  \n",
      "26    red ball    60    45   311   294  \n",
      "27    red ball     8     5   346   351  \n",
      "28    red ball    16    19  1036  1027  \n",
      "29    red ball   408    53   480   122  \n",
      "..         ...   ...   ...   ...   ...  \n",
      "349   red ball   477    23   709   252  \n",
      "350  blue ball    40   157   277   385  \n",
      "351  blue ball   260    85   494   316  \n",
      "352  blue ball   686     2   800   179  \n",
      "353   red ball    73    82   174   188  \n",
      "354  blue ball   189    53   312   179  \n",
      "355  blue ball    30    98   170   239  \n",
      "356  blue ball   186   109   330   252  \n",
      "357  blue ball   112   107   121   117  \n",
      "358  blue ball   136   108   144   117  \n",
      "359  blue ball   205    56   224    73  \n",
      "360  blue ball   185    74   193    82  \n",
      "361   red ball    15     6   218   209  \n",
      "362   red ball   299    46   339    84  \n",
      "363   red ball   478    89   507   118  \n",
      "364   red ball   606   152   647   192  \n",
      "365  blue ball     3   103   174   272  \n",
      "366   red ball   335    36   357    61  \n",
      "367   red ball   341    50   369    77  \n",
      "368   red ball   335    85   371   120  \n",
      "369   red ball   316   145   362   191  \n",
      "370  blue ball   364   242   427   310  \n",
      "371  blue ball    54   130   214   291  \n",
      "372  blue ball   137    39   226   127  \n",
      "373  blue ball   162   227   349   429  \n",
      "374  blue ball   465   241   589   384  \n",
      "375  blue ball   510   151   809   434  \n",
      "376  blue ball     5   236   204   431  \n",
      "377  blue ball   180    92   531   427  \n",
      "378  blue ball   182   299   323   430  \n",
      "\n",
      "[379 rows x 8 columns]\n"
     ]
    }
   ],
   "source": [
    "clear_directory_if_empty(os.path.join(os.getcwd(), csv_labels_dir))\n",
    "labels = pascal_voc_to_csv(pascal_voc_dir, csv_labels_path)\n",
    "print(labels)"
   ]
  },
  {
   "cell_type": "markdown",
   "metadata": {},
   "source": [
    "# Split Labels into Train and Test"
   ]
  },
  {
   "cell_type": "code",
   "execution_count": 16,
   "metadata": {},
   "outputs": [
    {
     "name": "stdout",
     "output_type": "stream",
     "text": [
      "Image count: 234\n",
      "Training image count: 140\n",
      "Test image count: 94\n"
     ]
    }
   ],
   "source": [
    "train_percent = 0.6\n",
    "\n",
    "# group all the labels by filename (image)\n",
    "labels_grouped = labels.groupby('filename')\n",
    "labels_grouped_list = [labels_grouped.get_group(x) for x in labels_grouped.groups]\n",
    "image_count = len(labels_grouped_list)\n",
    "\n",
    "# get training count by specified percentage\n",
    "train_count = round(image_count * train_percent)\n",
    "\n",
    "train_indicies = np.random.choice(image_count, size=train_count, replace=False)\n",
    "test_indicies = np.setdiff1d(list(range(image_count)), train_indicies)\n",
    "\n",
    "print('Image count: ' + str(image_count) \n",
    "      + '\\nTraining image count: ' + str(train_count)\n",
    "      + '\\nTest image count: ' + str(len(test_indicies)))"
   ]
  },
  {
   "cell_type": "code",
   "execution_count": 17,
   "metadata": {},
   "outputs": [
    {
     "name": "stdout",
     "output_type": "stream",
     "text": [
      "Total label count: 379\n",
      "Training label count: 219\n",
      "Test label count: 160\n"
     ]
    }
   ],
   "source": [
    "train = pd.concat([labels_grouped_list[i] for i in train_indicies])\n",
    "test = pd.concat([labels_grouped_list[i] for i in test_indicies])\n",
    "\n",
    "print('Total label count: ' + str(labels.shape[0]) \n",
    "      + '\\nTraining label count: ' + str(len(train))\n",
    "      + '\\nTest label count: ' + str(len(test)))"
   ]
  },
  {
   "cell_type": "code",
   "execution_count": 18,
   "metadata": {},
   "outputs": [],
   "source": [
    "clear_directory_if_empty(os.path.join(os.getcwd(), csv_labels_split_dir))\n",
    "train.to_csv(csv_train_labels_path, index=None)\n",
    "test.to_csv(csv_test_labels_path, index=None)"
   ]
  },
  {
   "cell_type": "markdown",
   "metadata": {},
   "source": [
    "# Generate TFRecord Files"
   ]
  },
  {
   "cell_type": "code",
   "execution_count": 19,
   "metadata": {},
   "outputs": [],
   "source": [
    "def create_tf_example(label_group, label_map, image_set_path):\n",
    "    with tf.gfile.GFile(os.path.join(image_set_path, '{}'.format(label_group.filename)), 'rb') as fid:\n",
    "        encoded_jpg = fid.read()\n",
    "        \n",
    "    encoded_jpg_io = io.BytesIO(encoded_jpg)\n",
    "    image = Image.open(encoded_jpg_io)\n",
    "    width, height = image.size\n",
    "\n",
    "    filename = label_group.filename.encode('utf8')\n",
    "    image_format = b'jpg'\n",
    "    xmins = []\n",
    "    xmaxs = []\n",
    "    ymins = []\n",
    "    ymaxs = []\n",
    "    classes_text = []\n",
    "    classes = []\n",
    "\n",
    "    for index, row in label_group.object.iterrows():\n",
    "        xmins.append(row['xmin'] / width)\n",
    "        xmaxs.append(row['xmax'] / width)\n",
    "        ymins.append(row['ymin'] / height)\n",
    "        ymaxs.append(row['ymax'] / height)\n",
    "        classes_text.append(row['class'].encode('utf8'))\n",
    "        classes.append(label_map[row['class']])\n",
    "\n",
    "    tf_example = tf.train.Example(features=tf.train.Features(feature={\n",
    "        'image/height': dataset_util.int64_feature(height),\n",
    "        'image/width': dataset_util.int64_feature(width),\n",
    "        'image/filename': dataset_util.bytes_feature(filename),\n",
    "        'image/source_id': dataset_util.bytes_feature(filename),\n",
    "        'image/encoded': dataset_util.bytes_feature(encoded_jpg),\n",
    "        'image/format': dataset_util.bytes_feature(image_format),\n",
    "        'image/object/bbox/xmin': dataset_util.float_list_feature(xmins),\n",
    "        'image/object/bbox/xmax': dataset_util.float_list_feature(xmaxs),\n",
    "        'image/object/bbox/ymin': dataset_util.float_list_feature(ymins),\n",
    "        'image/object/bbox/ymax': dataset_util.float_list_feature(ymaxs),\n",
    "        'image/object/class/text': dataset_util.bytes_list_feature(classes_text),\n",
    "        'image/object/class/label': dataset_util.int64_list_feature(classes),\n",
    "    }))\n",
    "    \n",
    "    return tf_example"
   ]
  },
  {
   "cell_type": "code",
   "execution_count": 20,
   "metadata": {},
   "outputs": [],
   "source": [
    "def create_tfrecord_file(labels, label_map_path, input_path, output_path):\n",
    "    tfrecord_writer = tf.python_io.TFRecordWriter(output_path)\n",
    "    image_set_path = os.path.join(os.getcwd(), image_set_dir)\n",
    "    \n",
    "    grouped_labels = labels.groupby('filename')\n",
    "    label_data = namedtuple('data', ['filename', 'object'])\n",
    "    label_map = label_map_util.get_label_map_dict(label_map_path)\n",
    "    \n",
    "    grouped_label_data = [label_data(filename, grouped_labels.get_group(x)) \n",
    "            for filename, x in zip(grouped_labels.groups.keys(), grouped_labels.groups)]\n",
    "    \n",
    "    for label_group in grouped_label_data:\n",
    "        tf_example = create_tf_example(label_group, label_map, image_set_path)\n",
    "        tfrecord_writer.write(tf_example.SerializeToString())"
   ]
  },
  {
   "cell_type": "code",
   "execution_count": 21,
   "metadata": {},
   "outputs": [],
   "source": [
    "clear_directory_if_empty(os.path.join(os.getcwd(), tfrecord_dir))\n",
    "\n",
    "label_map_path = 'object_detector_label_map.pbtxt'\n",
    "\n",
    "# TFRecord training file\n",
    "create_tfrecord_file(labels, label_map_path, csv_train_labels_path, tfrecord_train_path)\n",
    "\n",
    "# TFRecord test file\n",
    "create_tfrecord_file(labels, label_map_path, csv_test_labels_path, tfrecord_test_path)"
   ]
  },
  {
   "cell_type": "markdown",
   "metadata": {},
   "source": [
    "# Set Up Training Directory Structure"
   ]
  },
  {
   "cell_type": "code",
   "execution_count": 28,
   "metadata": {},
   "outputs": [
    {
     "name": "stdout",
     "output_type": "stream",
     "text": [
      "***Ensure pipeline config file in models/model is correct***\n"
     ]
    }
   ],
   "source": [
    "clear_directory_if_empty(os.path.join(os.getcwd(), train_dir + 'data'))\n",
    "clear_directory_if_empty(os.path.join(os.getcwd(), train_dir + 'models/model/eval'))\n",
    "clear_directory_if_empty(os.path.join(os.getcwd(), train_dir + 'models/model/train'))\n",
    "\n",
    "shutil.copyfile('object_detector_label_map.pbtxt', train_dir + 'data/object_detector_label_map.pbtxt')\n",
    "shutil.copyfile(tfrecord_train_path, train_dir + 'data/train.record')\n",
    "shutil.copyfile(tfrecord_test_path, train_dir + 'data/test.record')\n",
    "print(\"***Ensure pipeline config file in models/model is correct***\")"
   ]
  }
 ],
 "metadata": {
  "kernelspec": {
   "display_name": "Python 3",
   "language": "python",
   "name": "python3"
  },
  "language_info": {
   "codemirror_mode": {
    "name": "ipython",
    "version": 3
   },
   "file_extension": ".py",
   "mimetype": "text/x-python",
   "name": "python",
   "nbconvert_exporter": "python",
   "pygments_lexer": "ipython3",
   "version": "3.6.5"
  }
 },
 "nbformat": 4,
 "nbformat_minor": 2
}
