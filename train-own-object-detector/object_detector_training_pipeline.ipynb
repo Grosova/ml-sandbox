{
 "cells": [
  {
   "cell_type": "code",
   "execution_count": 53,
   "metadata": {},
   "outputs": [],
   "source": [
    "import io\n",
    "import os\n",
    "import sys\n",
    "import glob\n",
    "import numpy as np\n",
    "import pandas as pd\n",
    "import tensorflow as tf\n",
    "import xml.etree.ElementTree as xt\n",
    "\n",
    "# TensorFlow model modules\n",
    "sys.path.append('../../tensorflow/models/research')\n",
    "\n",
    "from PIL import Image\n",
    "from collections import namedtuple\n",
    "from object_detection.utils import dataset_util\n",
    "from object_detection.utils import label_map_util"
   ]
  },
  {
   "cell_type": "code",
   "execution_count": 41,
   "metadata": {},
   "outputs": [],
   "source": [
    "image_set_dir = '1_Image_Set'\n",
    "pascal_voc_dir = '2_Pascal_VOC_Annotations'\n",
    "csv_labels_path = '3_Labels/labels.csv'\n",
    "csv_train_labels_path = '4_Labels_Split/train_labels.csv'\n",
    "csv_test_labels_path = '4_Labels_Split/test_labels.csv'\n",
    "tfrecord_train_path = '5_TFRecord_Files/train.record'\n",
    "tfrecord_test_path = '5_TFRecord_Files/test.record'"
   ]
  },
  {
   "cell_type": "markdown",
   "metadata": {},
   "source": [
    "# Convert Pascal VOC Annotations to CSV Labels File"
   ]
  },
  {
   "cell_type": "code",
   "execution_count": 42,
   "metadata": {},
   "outputs": [],
   "source": [
    "def pascal_voc_to_csv(input_dir, output_path):\n",
    "    annot_list = []\n",
    "    for file in glob.glob(input_dir + '/*.xml'):\n",
    "        tree = xt.parse(file)\n",
    "        root = tree.getroot()\n",
    "        for element in root.findall('object'):\n",
    "            item = (root.find('filename').text,\n",
    "                    int(root.find('size')[0].text),\n",
    "                    int(root.find('size')[1].text),\n",
    "                    element[0].text,\n",
    "                    int(element[4][0].text),\n",
    "                    int(element[4][1].text),\n",
    "                    int(element[4][2].text),\n",
    "                    int(element[4][3].text))\n",
    "            annot_list.append(item)\n",
    "        csv_headers = ['filename', 'width', 'height', 'class', 'xmin', 'ymin', 'xmax', 'ymax']\n",
    "        csv_data = pd.DataFrame(annot_list, columns=csv_headers)\n",
    "    csv_data.to_csv(output_path, index=None)\n",
    "    return csv_data"
   ]
  },
  {
   "cell_type": "code",
   "execution_count": 43,
   "metadata": {},
   "outputs": [
    {
     "name": "stdout",
     "output_type": "stream",
     "text": [
      "                                              filename  width  height  \\\n",
      "0                                                1.jpg    275     183   \n",
      "1                                              10.jpeg    780     390   \n",
      "2                                              10.jpeg    780     390   \n",
      "3                                              10.jpeg    780     390   \n",
      "4                                              10.jpeg    780     390   \n",
      "5                                              10.jpeg    780     390   \n",
      "6                                              10.jpeg    780     390   \n",
      "7                                              11.jpeg   1600    1214   \n",
      "8                                              11.jpeg   1600    1214   \n",
      "9                                               12.jpg    800     759   \n",
      "10                                              12.jpg    800     759   \n",
      "11                          1297459281550_ORIGINAL.jpg    810     470   \n",
      "12                          1297739597252_ORIGINAL.jpg    650     474   \n",
      "13                                              13.jpg    236     157   \n",
      "14                                              13.jpg    236     157   \n",
      "15                                              13.jpg    236     157   \n",
      "16                                              13.jpg    236     157   \n",
      "17                                              14.jpg    850     478   \n",
      "18                              149694325006613123.jpg    812     457   \n",
      "19                                              15.jpg    376     319   \n",
      "20                                              16.jpg    355     355   \n",
      "21                                              17.jpg   1050    1050   \n",
      "22                                              18.jpg    620     605   \n",
      "23                                              19.jpg    355     355   \n",
      "24                                               2.jpg    500     668   \n",
      "25                                              20.jpg   1200     800   \n",
      "26                                             21.jpeg   1000     562   \n",
      "27                                              22.jpg    350     213   \n",
      "28                                              23.jpg    465     262   \n",
      "29                                              24.jpg    460     455   \n",
      "..                                                 ...    ...     ...   \n",
      "134                                   NSD104431623.jpg    980     551   \n",
      "135                                omaze-dodgeball.jpg    970     545   \n",
      "136                         OpenRecreation_960x640.jpg    960     640   \n",
      "137                         OpenRecreation_960x640.jpg    960     640   \n",
      "138                       Playground-Ball-Hot-Pink.png    300     300   \n",
      "139  red-dodge-ball-line-sportshall-dodgeball-game-...    800     450   \n",
      "140  red-leather-cricket-ball-and-bails-on-grass-H9...   1300     951   \n",
      "141        red-playground-ball-gym-260nw-779388625.jpg    347     280   \n",
      "142         red-tennis-ball-in-green-ground-bhapaj.jpg    448     320   \n",
      "143                                         s-l225.jpg    225     171   \n",
      "144                            SC2736-657-PHSFZ001.jpg    750     750   \n",
      "145                sissel-securemax-exercise-balls.png    720     540   \n",
      "146           small-sports-balls-rubbabu-2_530x@2x.jpg   1000    1000   \n",
      "147         small-sports-balls-rubbabu-3_1024x1024.jpg   1000    1000   \n",
      "148                                    Soccer13New.jpg   1372    1062   \n",
      "149                                    Soccer13New.jpg   1372    1062   \n",
      "150  social-conscience-fair-trade-sports-balls-righ...    291     299   \n",
      "151                   stability-balls-lowres-00734.jpg    630     420   \n",
      "152                        static1.squarespace.com.jpg   1500    1000   \n",
      "153  stock-photo-red-cricket-ball-on-the-grass-with...    450     320   \n",
      "154  stock-photo-sports-equipment-on-a-gym-floor-fo...    450     395   \n",
      "155         Student-and-Faculty-Dodgeball--900x495.jpg    900     495   \n",
      "156                 tg-20022017-dodgeball-mm_large.jpg    800     535   \n",
      "157                 tg-20022017-dodgeball-mm_large.jpg    800     535   \n",
      "158                 tg-20022017-dodgeball-mm_large.jpg    800     535   \n",
      "159                       Theraband Exercies Balls.jpg    324     220   \n",
      "160                          Untitled2017316166705.jpg    620     372   \n",
      "161                               v2jfpb8690ggu7sj.jpg    650     350   \n",
      "162                               v2jfpb8690ggu7sj.jpg    650     350   \n",
      "163                               v2jfpb8690ggu7sj.jpg    650     350   \n",
      "\n",
      "        class  xmin  ymin  xmax  ymax  \n",
      "0    red ball    83   102   134   154  \n",
      "1    red ball   180   311   245   377  \n",
      "2    red ball   313   203   343   236  \n",
      "3    red ball   351   176   371   198  \n",
      "4    red ball   366   150   382   165  \n",
      "5    red ball   386   134   400   150  \n",
      "6    red ball   382   141   394   154  \n",
      "7    red ball   979   279  1160   451  \n",
      "8    red ball   519   383   714   572  \n",
      "9    red ball   458    25   542   107  \n",
      "10   red ball   712   588   785   660  \n",
      "11   red ball   131   397   152   419  \n",
      "12   red ball   337   222   444   325  \n",
      "13   red ball   203    55   219    71  \n",
      "14   red ball   159    67   180    88  \n",
      "15   red ball   114    79   139   103  \n",
      "16   red ball    32    97    62   127  \n",
      "17   red ball   446    77   793   418  \n",
      "18   red ball   318   330   560   457  \n",
      "19   red ball    60    45   311   294  \n",
      "20   red ball     8     5   346   351  \n",
      "21   red ball    16    19  1036  1027  \n",
      "22   red ball   408    53   480   122  \n",
      "23   red ball   101   197   247   342  \n",
      "24   red ball    78   162   431   522  \n",
      "25   red ball   165   210   650   698  \n",
      "26   red ball   352    79   703   423  \n",
      "27   red ball   163   106   261   204  \n",
      "28   red ball   174    60   364   236  \n",
      "29   red ball    46    38   420   408  \n",
      "..        ...   ...   ...   ...   ...  \n",
      "134  red ball   312    57   360   106  \n",
      "135  red ball   267   333   397   461  \n",
      "136  red ball   628   148   696   219  \n",
      "137  red ball   184   302   249   368  \n",
      "138  red ball    12    13   287   287  \n",
      "139  red ball    28    60   411   421  \n",
      "140  red ball   483   295   957   749  \n",
      "141  red ball    41    48   172   182  \n",
      "142  red ball   125    36   337   233  \n",
      "143  red ball    38     1   209   169  \n",
      "144  red ball    69    75   677   679  \n",
      "145  red ball   200   126   543   468  \n",
      "146  red ball   437   527   677   763  \n",
      "147  red ball   437   582   819   959  \n",
      "148  red ball   301   368   894   950  \n",
      "149  red ball  1091   388  1356   666  \n",
      "150  red ball     9    16   284   289  \n",
      "151  red ball   115    14   495   389  \n",
      "152  red ball   140   388   810  1000  \n",
      "153  red ball   112    58   285   229  \n",
      "154  red ball   199   227   270   297  \n",
      "155  red ball   228    37   661   467  \n",
      "156  red ball   604    79   668   142  \n",
      "157  red ball   399    11   453    62  \n",
      "158  red ball   271     1   333    52  \n",
      "159  red ball    73    82   174   188  \n",
      "160  red ball    15     6   218   209  \n",
      "161  red ball   299    46   339    84  \n",
      "162  red ball   478    89   507   118  \n",
      "163  red ball   606   152   647   192  \n",
      "\n",
      "[164 rows x 8 columns]\n"
     ]
    }
   ],
   "source": [
    "labels = pascal_voc_to_csv(pascal_voc_dir, csv_labels_path)\n",
    "print(labels)"
   ]
  },
  {
   "cell_type": "markdown",
   "metadata": {},
   "source": [
    "# Split Labels into Train and Test"
   ]
  },
  {
   "cell_type": "code",
   "execution_count": 44,
   "metadata": {},
   "outputs": [
    {
     "name": "stdout",
     "output_type": "stream",
     "text": [
      "Image count: 118\n",
      "Training image count: 71\n",
      "Test image count: 47\n"
     ]
    }
   ],
   "source": [
    "train_percent = 0.6\n",
    "\n",
    "# group all the labels by filename (image)\n",
    "labels_grouped = labels.groupby('filename')\n",
    "labels_grouped_list = [labels_grouped.get_group(x) for x in labels_grouped.groups]\n",
    "image_count = len(labels_grouped_list)\n",
    "\n",
    "# get training count by specified percentage\n",
    "train_count = round(image_count * train_percent)\n",
    "\n",
    "train_indicies = np.random.choice(image_count, size=train_count, replace=False)\n",
    "test_indicies = np.setdiff1d(list(range(image_count)), train_indicies)\n",
    "\n",
    "print('Image count: ' + str(image_count) \n",
    "      + '\\nTraining image count: ' + str(train_count)\n",
    "      + '\\nTest image count: ' + str(len(test_indicies)))"
   ]
  },
  {
   "cell_type": "code",
   "execution_count": 45,
   "metadata": {},
   "outputs": [
    {
     "name": "stdout",
     "output_type": "stream",
     "text": [
      "Total label count: 164\n",
      "Training label count: 105\n",
      "Test label count: 59\n"
     ]
    }
   ],
   "source": [
    "train = pd.concat([labels_grouped_list[i] for i in train_indicies])\n",
    "test = pd.concat([labels_grouped_list[i] for i in test_indicies])\n",
    "\n",
    "print('Total label count: ' + str(labels.shape[0]) \n",
    "      + '\\nTraining label count: ' + str(len(train))\n",
    "      + '\\nTest label count: ' + str(len(test)))"
   ]
  },
  {
   "cell_type": "code",
   "execution_count": 46,
   "metadata": {},
   "outputs": [],
   "source": [
    "train.to_csv(csv_train_labels_path, index=None)\n",
    "test.to_csv(csv_test_labels_path, index=None)"
   ]
  },
  {
   "cell_type": "markdown",
   "metadata": {},
   "source": [
    "# Generate TFRecord Files"
   ]
  },
  {
   "cell_type": "code",
   "execution_count": 61,
   "metadata": {},
   "outputs": [],
   "source": [
    "def create_tf_example(label_group, label_map, image_set_path):\n",
    "    with tf.gfile.GFile(os.path.join(image_set_path, '{}'.format(label_group.filename)), 'rb') as fid:\n",
    "        encoded_jpg = fid.read()\n",
    "        \n",
    "    encoded_jpg_io = io.BytesIO(encoded_jpg)\n",
    "    image = Image.open(encoded_jpg_io)\n",
    "    width, height = image.size\n",
    "\n",
    "    filename = label_group.filename.encode('utf8')\n",
    "    image_format = b'jpg'\n",
    "    xmins = []\n",
    "    xmaxs = []\n",
    "    ymins = []\n",
    "    ymaxs = []\n",
    "    classes_text = []\n",
    "    classes = []\n",
    "\n",
    "    for index, row in label_group.object.iterrows():\n",
    "        xmins.append(row['xmin'] / width)\n",
    "        xmaxs.append(row['xmax'] / width)\n",
    "        ymins.append(row['ymin'] / height)\n",
    "        ymaxs.append(row['ymax'] / height)\n",
    "        classes_text.append(row['class'].encode('utf8'))\n",
    "        classes.append(label_map[row['class']])\n",
    "\n",
    "    tf_example = tf.train.Example(features=tf.train.Features(feature={\n",
    "        'image/height': dataset_util.int64_feature(height),\n",
    "        'image/width': dataset_util.int64_feature(width),\n",
    "        'image/filename': dataset_util.bytes_feature(filename),\n",
    "        'image/source_id': dataset_util.bytes_feature(filename),\n",
    "        'image/encoded': dataset_util.bytes_feature(encoded_jpg),\n",
    "        'image/format': dataset_util.bytes_feature(image_format),\n",
    "        'image/object/bbox/xmin': dataset_util.float_list_feature(xmins),\n",
    "        'image/object/bbox/xmax': dataset_util.float_list_feature(xmaxs),\n",
    "        'image/object/bbox/ymin': dataset_util.float_list_feature(ymins),\n",
    "        'image/object/bbox/ymax': dataset_util.float_list_feature(ymaxs),\n",
    "        'image/object/class/text': dataset_util.bytes_list_feature(classes_text),\n",
    "        'image/object/class/label': dataset_util.int64_list_feature(classes),\n",
    "    }))\n",
    "    \n",
    "    return tf_example"
   ]
  },
  {
   "cell_type": "code",
   "execution_count": 62,
   "metadata": {},
   "outputs": [],
   "source": [
    "def create_tfrecord_file(labels, label_map_path, input_path, output_path):\n",
    "    tfrecord_writer = tf.python_io.TFRecordWriter(output_path)\n",
    "    image_set_path = os.path.join(os.getcwd(), image_set_dir)\n",
    "    \n",
    "    grouped_labels = labels.groupby('filename')\n",
    "    label_data = namedtuple('data', ['filename', 'object'])\n",
    "    label_map = label_map_util.get_label_map_dict(label_map_path)\n",
    "    \n",
    "    grouped_label_data = [label_data(filename, grouped_labels.get_group(x)) \n",
    "            for filename, x in zip(grouped_labels.groups.keys(), grouped_labels.groups)]\n",
    "    \n",
    "    for label_group in grouped_label_data:\n",
    "        tf_example = create_tf_example(label_group, label_map, image_set_path)\n",
    "        tfrecord_writer.write(tf_example.SerializeToString())"
   ]
  },
  {
   "cell_type": "code",
   "execution_count": 63,
   "metadata": {},
   "outputs": [],
   "source": [
    "label_map_path = 'object_detector_label_map.pbtxt'\n",
    "\n",
    "# TFRecord training file\n",
    "create_tfrecord_file(labels, label_map_path, csv_train_labels_path, tfrecord_train_path)\n",
    "\n",
    "# TFRecord test file\n",
    "create_tfrecord_file(labels, label_map_path, csv_test_labels_path, tfrecord_test_path)"
   ]
  }
 ],
 "metadata": {
  "kernelspec": {
   "display_name": "Python 3",
   "language": "python",
   "name": "python3"
  },
  "language_info": {
   "codemirror_mode": {
    "name": "ipython",
    "version": 3
   },
   "file_extension": ".py",
   "mimetype": "text/x-python",
   "name": "python",
   "nbconvert_exporter": "python",
   "pygments_lexer": "ipython3",
   "version": "3.6.5"
  }
 },
 "nbformat": 4,
 "nbformat_minor": 2
}
